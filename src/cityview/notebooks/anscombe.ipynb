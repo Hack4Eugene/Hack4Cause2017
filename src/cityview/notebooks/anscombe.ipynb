{
 "cells": [
  {
   "cell_type": "code",
   "execution_count": 5,
   "metadata": {
    "collapsed": false
   },
   "outputs": [
    {
     "data": {
      "application/javascript": [
       "\n",
       "use 'strict';\n",
       "\n",
       "data = {\n",
       "\t\"sets\": {\n",
       "\t\t\"set1\": [\n",
       "\t\t\t[10.0,8.04],\n",
       "\t\t\t[8.0,6.95],\n",
       "\t\t\t[13.0,7.58],\n",
       "\t\t\t[9.0,8.81],\n",
       "\t\t\t[11.0,8.33],\n",
       "\t\t\t[14.0,9.96],\n",
       "\t\t\t[6.0,7.24],\n",
       "\t\t\t[4.0,4.26],\n",
       "\t\t\t[12.0,10.84],\n",
       "\t\t\t[7.0,4.82],\n",
       "\t\t\t[5.0,5.68]\n",
       "\t\t],\n",
       "\t\t\"set2\": [\n",
       "\t\t\t[10,9.14],\n",
       "\t\t\t[8,8.14],\n",
       "\t\t\t[13,8.74],\n",
       "\t\t\t[9,8.77],\n",
       "\t\t\t[11,9.26],\n",
       "\t\t\t[14,8.1],\n",
       "\t\t\t[6,6.13],\n",
       "\t\t\t[4,3.1],\n",
       "\t\t\t[12,9.13],\n",
       "\t\t\t[7,7.26],\n",
       "\t\t\t[5,4.74]\n",
       "\t\t],\n",
       "\t\t\"set3\": [\n",
       "\t\t\t[10,7.46],\n",
       "\t\t\t[8,6.77],\n",
       "\t\t\t[13,12.74],\n",
       "\t\t\t[9,7.11],\n",
       "\t\t\t[11,7.81],\n",
       "\t\t\t[14,8.84],\n",
       "\t\t\t[6,6.08],\n",
       "\t\t\t[4,5.39],\n",
       "\t\t\t[12,8.15],\n",
       "\t\t\t[7,6.42],\n",
       "\t\t\t[5,5.73]\n",
       "\t\t],\n",
       "\t\t\"set4\": [\n",
       "\t\t\t[8,6.58],\n",
       "\t\t\t[8,5.76],\n",
       "\t\t\t[8,7.71],\n",
       "\t\t\t[8,8.84],\n",
       "\t\t\t[8,8.47],\n",
       "\t\t\t[8,7.04],\n",
       "\t\t\t[8,5.25],\n",
       "\t\t\t[19,12.5],\n",
       "\t\t\t[8,5.56],\n",
       "\t\t\t[8,7.91],\n",
       "\t\t\t[8,6.89]\n",
       "\t\t]\n",
       "\t}\n",
       "}"
      ],
      "text/plain": [
       "<IPython.core.display.Javascript object>"
      ]
     },
     "metadata": {},
     "output_type": "display_data"
    }
   ],
   "source": [
    "\n",
    "%%javascript\n",
    "\n",
    "use 'strict';\n",
    "\n",
    "data = {\n",
    "\t\"sets\": {\n",
    "\t\t\"set1\": [\n",
    "\t\t\t[10.0,8.04],\n",
    "\t\t\t[8.0,6.95],\n",
    "\t\t\t[13.0,7.58],\n",
    "\t\t\t[9.0,8.81],\n",
    "\t\t\t[11.0,8.33],\n",
    "\t\t\t[14.0,9.96],\n",
    "\t\t\t[6.0,7.24],\n",
    "\t\t\t[4.0,4.26],\n",
    "\t\t\t[12.0,10.84],\n",
    "\t\t\t[7.0,4.82],\n",
    "\t\t\t[5.0,5.68]\n",
    "\t\t],\n",
    "\t\t\"set2\": [\n",
    "\t\t\t[10,9.14],\n",
    "\t\t\t[8,8.14],\n",
    "\t\t\t[13,8.74],\n",
    "\t\t\t[9,8.77],\n",
    "\t\t\t[11,9.26],\n",
    "\t\t\t[14,8.1],\n",
    "\t\t\t[6,6.13],\n",
    "\t\t\t[4,3.1],\n",
    "\t\t\t[12,9.13],\n",
    "\t\t\t[7,7.26],\n",
    "\t\t\t[5,4.74]\n",
    "\t\t],\n",
    "\t\t\"set3\": [\n",
    "\t\t\t[10,7.46],\n",
    "\t\t\t[8,6.77],\n",
    "\t\t\t[13,12.74],\n",
    "\t\t\t[9,7.11],\n",
    "\t\t\t[11,7.81],\n",
    "\t\t\t[14,8.84],\n",
    "\t\t\t[6,6.08],\n",
    "\t\t\t[4,5.39],\n",
    "\t\t\t[12,8.15],\n",
    "\t\t\t[7,6.42],\n",
    "\t\t\t[5,5.73]\n",
    "\t\t],\n",
    "\t\t\"set4\": [\n",
    "\t\t\t[8,6.58],\n",
    "\t\t\t[8,5.76],\n",
    "\t\t\t[8,7.71],\n",
    "\t\t\t[8,8.84],\n",
    "\t\t\t[8,8.47],\n",
    "\t\t\t[8,7.04],\n",
    "\t\t\t[8,5.25],\n",
    "\t\t\t[19,12.5],\n",
    "\t\t\t[8,5.56],\n",
    "\t\t\t[8,7.91],\n",
    "            \n",
    "\t\t\t[8,6.89]\n",
    "\t\t]\n",
    "\t}\n",
    "}"
   ]
  },
  {
   "cell_type": "code",
   "execution_count": 4,
   "metadata": {
    "collapsed": true
   },
   "outputs": [],
   "source": [
    "import pandas as pd\n"
   ]
  }
 ],
 "metadata": {
  "kernelspec": {
   "display_name": "Python 3",
   "language": "python",
   "name": "python3"
  },
  "language_info": {
   "codemirror_mode": {
    "name": "ipython",
    "version": 3
   },
   "file_extension": ".py",
   "mimetype": "text/x-python",
   "name": "python",
   "nbconvert_exporter": "python",
   "pygments_lexer": "ipython3",
   "version": "3.5.2"
  }
 },
 "nbformat": 4,
 "nbformat_minor": 2
}
