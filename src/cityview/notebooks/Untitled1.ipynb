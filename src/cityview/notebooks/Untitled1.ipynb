{
 "cells": [
  {
   "cell_type": "code",
   "execution_count": 14,
   "metadata": {
    "collapsed": false
   },
   "outputs": [],
   "source": [
    "import os\n",
    "import json\n",
    "\n",
    "#os.chdir('../web/html/data')\n",
    "nbrh = open('neighborhoods_geo.json').read()\n",
    "bp = open('neighbors_bp.json').read()"
   ]
  },
  {
   "cell_type": "code",
   "execution_count": 18,
   "metadata": {
    "collapsed": false
   },
   "outputs": [
    {
     "data": {
      "text/plain": [
       "[{'name': 'Southeast Neighbors'},\n",
       " {'name': 'Amazon Neighbors Association'},\n",
       " {'name': 'West University Neighbors'},\n",
       " {'name': 'Southwest Hills Neighborhood Association'},\n",
       " {'name': 'OUT'},\n",
       " {'name': 'South University Neighborhood Association'},\n",
       " {'name': 'Friendly Area Neighbors'},\n",
       " {'name': 'Laurel Hill Valley Citizens'},\n",
       " {'name': 'Fairmount Neighbors'},\n",
       " {'name': 'Jefferson Westside Neighbors'},\n",
       " {'name': 'Far West Neighborhood Association'},\n",
       " {'name': 'Downtown Neighborhood Association'},\n",
       " {'name': 'Churchill Area Neighbors'},\n",
       " {'name': 'West Eugene Community Organization'},\n",
       " {'name': 'Whiteaker Community Council'},\n",
       " {'name': 'Trainsong Neighbors'},\n",
       " {'name': 'Harlow Neighbors'},\n",
       " {'name': 'River Road Community Organization'},\n",
       " {'name': 'Active Bethel Citizens'},\n",
       " {'name': 'Cal Young Neighborhood Association'},\n",
       " {'name': 'Industrial Corridor Community Organization'},\n",
       " {'name': 'Santa Clara Community Organization'},\n",
       " {'name': 'OUT'},\n",
       " {'name': 'Northeast Neighbors'},\n",
       " {'name': 'Goodpasture Island Neighbors'}]"
      ]
     },
     "execution_count": 18,
     "metadata": {},
     "output_type": "execute_result"
    }
   ],
   "source": [
    "nb= json.loads(nbrh)\n",
    "props = [ f['properties'] for f in nb['features'] ]\n",
    "props"
   ]
  },
  {
   "cell_type": "code",
   "execution_count": 16,
   "metadata": {
    "collapsed": false,
    "scrolled": true
   },
   "outputs": [
    {
     "data": {
      "text/plain": [
       "{'neighbor_bps': [{'count': 12, 'neighborhood': 'Active Bethel Citizens'},\n",
       "  {'count': 1, 'neighborhood': 'Amazon Neighbors Association'},\n",
       "  {'count': 33, 'neighborhood': 'Cal Young Neighborhood Association'},\n",
       "  {'count': 28, 'neighborhood': 'Churchill Area Neighbors'},\n",
       "  {'count': 1, 'neighborhood': 'Downtown Neighborhood Association'},\n",
       "  {'count': 1, 'neighborhood': 'Fairmount Neighbors'},\n",
       "  {'count': 1, 'neighborhood': 'Far West Neighborhood Association'},\n",
       "  {'count': 8, 'neighborhood': 'Friendly Area Neighbors'},\n",
       "  {'count': 7, 'neighborhood': 'Harlow Neighbors'},\n",
       "  {'count': 2, 'neighborhood': 'Jefferson Westside Neighbors'},\n",
       "  {'count': 9, 'neighborhood': 'Laurel Hill Valley Citizens'},\n",
       "  {'count': 88, 'neighborhood': 'Northeast Neighbors'},\n",
       "  {'count': 33, 'neighborhood': 'River Road Community Organization'},\n",
       "  {'count': 37, 'neighborhood': 'Santa Clara Community Organization'},\n",
       "  {'count': 10, 'neighborhood': 'Southeast Neighbors'},\n",
       "  {'count': 1, 'neighborhood': 'South University Neighborhood Association'},\n",
       "  {'count': 5, 'neighborhood': 'Southwest Hills Neighborhood Association'},\n",
       "  {'count': 8, 'neighborhood': 'Unknown'},\n",
       "  {'count': 1, 'neighborhood': 'West Eugene Community Organization'},\n",
       "  {'count': 1, 'neighborhood': 'West University Neighbors'}]}"
      ]
     },
     "execution_count": 16,
     "metadata": {},
     "output_type": "execute_result"
    }
   ],
   "source": [
    "bpo =json.loads(bp)\n",
    "bpo"
   ]
  },
  {
   "cell_type": "code",
   "execution_count": 22,
   "metadata": {
    "collapsed": false
   },
   "outputs": [
    {
     "ename": "SyntaxError",
     "evalue": "invalid syntax (<ipython-input-22-92c24ceb3e49>, line 2)",
     "output_type": "error",
     "traceback": [
      "\u001b[0;36m  File \u001b[0;32m\"<ipython-input-22-92c24ceb3e49>\"\u001b[0;36m, line \u001b[0;32m2\u001b[0m\n\u001b[0;31m    [(p['name'], (item['count']) for p in props if p['name']==item['neighborhood']]\u001b[0m\n\u001b[0m                                   ^\u001b[0m\n\u001b[0;31mSyntaxError\u001b[0m\u001b[0;31m:\u001b[0m invalid syntax\n"
     ]
    }
   ],
   "source": [
    "for item in bpo['neighbor_bps']:\n",
    "    p['name'] == (item['count']) for p in props if item['neighborhood']==p['name']]\n"
   ]
  }
 ],
 "metadata": {
  "kernelspec": {
   "display_name": "Python 3",
   "language": "python",
   "name": "python3"
  },
  "language_info": {
   "codemirror_mode": {
    "name": "ipython",
    "version": 3
   },
   "file_extension": ".py",
   "mimetype": "text/x-python",
   "name": "python",
   "nbconvert_exporter": "python",
   "pygments_lexer": "ipython3",
   "version": "3.5.2"
  }
 },
 "nbformat": 4,
 "nbformat_minor": 2
}
