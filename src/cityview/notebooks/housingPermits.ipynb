{
 "cells": [
  {
   "cell_type": "code",
   "execution_count": 3,
   "metadata": {
    "collapsed": true
   },
   "outputs": [],
   "source": [
    "import pandas as pd\n",
    "import os"
   ]
  },
  {
   "cell_type": "code",
   "execution_count": 4,
   "metadata": {
    "collapsed": true
   },
   "outputs": [],
   "source": [
    "permitFile = '../raw_data/Hack4Cause_Housing_BP_Issued_Phased_and_NonPhased_1.1.015_12.31.15(FINAL).xlsx'"
   ]
  },
  {
   "cell_type": "code",
   "execution_count": 5,
   "metadata": {},
   "outputs": [],
   "source": [
    "data = pd.read_excel(permitFile, 'BP_Issued_NonPh_clean')"
   ]
  },
  {
   "cell_type": "code",
   "execution_count": 6,
   "metadata": {},
   "outputs": [
    {
     "data": {
      "text/plain": [
       "Index(['log_yy', 'log_number', 'log_sequence', 'issued_date',\n",
       "       'scope_of_work_desc', 'proposed_usc', 'bpr_use_desc', 'proposed_units',\n",
       "       'neighborhood', 'x_coordinate', 'y_coordinate', 'comments',\n",
       "       'existing_use_code', 'existing_use', 'current_units',\n",
       "       'application_received_date', 'multiple_use_code',\n",
       "       'bpr_multiple_use_desc', 'project_name', 'address', 'maplot',\n",
       "       'EE_year_issued', 'EE_housingtype', 'EE_housingmixtype'],\n",
       "      dtype='object')"
      ]
     },
     "execution_count": 6,
     "metadata": {},
     "output_type": "execute_result"
    }
   ],
   "source": [
    "data.columns\n"
   ]
  },
  {
   "cell_type": "code",
   "execution_count": 16,
   "metadata": {
    "collapsed": true
   },
   "outputs": [],
   "source": [
    "fh = open('C:/Users/Heron/Documents/python/c-dash/cityview/web/html/data/permits.json', 'w')\n",
    "fh.write(clean.to_json())\n",
    "fh.close()"
   ]
  },
  {
   "cell_type": "code",
   "execution_count": null,
   "metadata": {
    "collapsed": true
   },
   "outputs": [],
   "source": []
  }
 ],
 "metadata": {
  "kernelspec": {
   "display_name": "Python 3",
   "language": "python",
   "name": "python3"
  },
  "language_info": {
   "codemirror_mode": {
    "name": "ipython",
    "version": 3
   },
   "file_extension": ".py",
   "mimetype": "text/x-python",
   "name": "python",
   "nbconvert_exporter": "python",
   "pygments_lexer": "ipython3",
   "version": "3.5.3"
  }
 },
 "nbformat": 4,
 "nbformat_minor": 2
}
