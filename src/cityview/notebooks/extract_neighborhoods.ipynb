{
 "cells": [
  {
   "cell_type": "code",
   "execution_count": 21,
   "metadata": {},
   "outputs": [],
   "source": [
    "import psycopg2 as pg\n",
    "cnx = pg.connect('dbname=cityview user=cityview password=testthis host=localhost')\n",
    "crs = cnx.cursor()\n",
    "crs.execute(\"select name,st_asgeojson(geom) from neigborhoods;\")\n",
    "results = crs.fetchall()"
   ]
  },
  {
   "cell_type": "code",
   "execution_count": 25,
   "metadata": {},
   "outputs": [
    {
     "data": {
      "text/plain": [
       "geojson.feature.FeatureCollection"
      ]
     },
     "execution_count": 25,
     "metadata": {},
     "output_type": "execute_result"
    }
   ],
   "source": [
    "import geojson\n",
    "import json\n",
    "features = [ (r[0],json.loads(r[1])) for r in results]\n",
    "features = [ geojson.Feature(properties={'name': f[0]},geometry=f[1]) for f in features]\n",
    "neighborhoods = geojson.FeatureCollection(features)\n"
   ]
  },
  {
   "cell_type": "code",
   "execution_count": 29,
   "metadata": {},
   "outputs": [],
   "source": [
    "fh = open('/home/larry/code/cityview/web/html/data/neighborhoods_geo.json','w')\n",
    "nb = geojson.dumps(neighborhoods)\n",
    "fh.write(nb)\n",
    "fh.close()"
   ]
  }
 ],
 "metadata": {
  "kernelspec": {
   "display_name": "Python 3",
   "language": "python",
   "name": "python3"
  },
  "language_info": {
   "codemirror_mode": {
    "name": "ipython",
    "version": 3
   },
   "file_extension": ".py",
   "mimetype": "text/x-python",
   "name": "python",
   "nbconvert_exporter": "python",
   "pygments_lexer": "ipython3",
   "version": "3.5.3"
  }
 },
 "nbformat": 4,
 "nbformat_minor": 2
}
