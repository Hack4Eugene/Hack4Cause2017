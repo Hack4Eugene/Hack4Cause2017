{
 "cells": [
  {
   "cell_type": "code",
   "execution_count": 2,
   "metadata": {
    "collapsed": true
   },
   "outputs": [],
   "source": [
    "import json\n",
    "import geojson\n",
    "import psycopg2 as pg\n",
    "\n",
    "cnx = pg.connect('dbname=cityview user=cityview password=testthis host=localhost')\n",
    "crs = cnx.cursor()\n",
    "\n"
   ]
  },
  {
   "cell_type": "code",
   "execution_count": 3,
   "metadata": {
    "collapsed": true
   },
   "outputs": [],
   "source": [
    "query = \"\"\"select count(*), v.\"Meter\", st_asgeojson(m.wkb_geometry) meter_point\n",
    "from parking_violations v join meter m on v.\"Meter\"=m.meter_id\n",
    "group by v.\"Meter\",meter_point\n",
    "order by count desc;\n",
    "\"\"\"\n",
    "crs.execute(query)\n",
    "results = crs.fetchall()"
   ]
  },
  {
   "cell_type": "code",
   "execution_count": 8,
   "metadata": {
    "collapsed": false
   },
   "outputs": [],
   "source": [
    "meters = [ geojson.Feature(properties={'count':r[0],'meter_id': r[1]},geometry=json.loads(r[2])) for r in results ]\n",
    "output = geojson.FeatureCollection(meters)"
   ]
  },
  {
   "cell_type": "code",
   "execution_count": 9,
   "metadata": {
    "collapsed": true
   },
   "outputs": [],
   "source": [
    "fh = open('/home/larry/code/cityview/web/html/data/parking_meters.json','w')\n",
    "fh.write(geojson.dumps(output))\n",
    "fh.close()\n"
   ]
  }
 ],
 "metadata": {
  "kernelspec": {
   "display_name": "Python 3",
   "language": "python",
   "name": "python3"
  },
  "language_info": {
   "codemirror_mode": {
    "name": "ipython",
    "version": 3
   },
   "file_extension": ".py",
   "mimetype": "text/x-python",
   "name": "python",
   "nbconvert_exporter": "python",
   "pygments_lexer": "ipython3",
   "version": "3.5.2"
  }
 },
 "nbformat": 4,
 "nbformat_minor": 2
}
